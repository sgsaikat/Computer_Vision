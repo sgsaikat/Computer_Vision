{
 "cells": [
  {
   "cell_type": "code",
   "execution_count": 1,
   "metadata": {},
   "outputs": [],
   "source": [
    "import numpy as np\n",
    "import cv2\n",
    "from imutils import face_utils\n",
    "import dlib"
   ]
  },
  {
   "cell_type": "code",
   "execution_count": 2,
   "metadata": {},
   "outputs": [],
   "source": [
    "def use_HOG_detect(frame):\n",
    "    face_detect = dlib.get_frontal_face_detector()\n",
    "    rects = face_detect(frame, 1)\n",
    "    \n",
    "    for (i, rect) in enumerate(rects):\n",
    "        (x, y, w, h) = face_utils.rect_to_bb(rect)\n",
    "        cv2.rectangle(frame, (x, y), (x+w, y+h), (255, 0, 0), 3)\n",
    "        \n",
    "        cv2.putText(frame, f\"Face #{i + 1}\", (x - 10, y - 10), cv2.FONT_HERSHEY_SIMPLEX, 0.5, (255, 0, 0), 2)\n",
    "        \n",
    "    return frame"
   ]
  },
  {
   "cell_type": "code",
   "execution_count": 3,
   "metadata": {},
   "outputs": [],
   "source": [
    "def use_CNN_detect(frame):\n",
    "    face_detect = dlib.cnn_face_detection_model_v1('mmod_human_face_detector.dat')\n",
    "    rects = face_detect(frame, 1)\n",
    "    \n",
    "    for (i, rect) in enumerate(rects):\n",
    "        x1 = rect.rect.left()\n",
    "        y1 = rect.rect.top()\n",
    "        x2 = rect.rect.right()\n",
    "        y2 = rect.rect.bottom()\n",
    "        \n",
    "        cv2.rectangle(frame, (x1, y1), (x2, y2), (255, 0, 0), 3)\n",
    "        cv2.putText(frame, f\"Face #{i + 1}\", (x1 - 10, y1 - 10), cv2.FONT_HERSHEY_SIMPLEX, 0.5, (255, 0, 0), 2)\n",
    "    \n",
    "    return frame"
   ]
  },
  {
   "cell_type": "code",
   "execution_count": 4,
   "metadata": {},
   "outputs": [],
   "source": [
    "cap = cv2.VideoCapture(0)\n",
    "choice = 'hog' # ['cnn', 'hog']\n",
    "\n",
    "# This will be the main running loop. Depending on the choice, the face detection method will be invoked.\n",
    "while True:\n",
    "    ret, frame = cap.read()\n",
    "    if not ret:\n",
    "        print(\"WebCam not working!!\")\n",
    "        break\n",
    "    \n",
    "    gray = cv2.cvtColor(frame, cv2.COLOR_BGR2GRAY)\n",
    "    \n",
    "    if choice == 'hog':\n",
    "        img = use_HOG_detect(gray)\n",
    "    elif choice == 'cnn':\n",
    "        img = use_CNN_detect(gray)\n",
    "    else:\n",
    "        print(f\"{choice} is NOT valid!!\")\n",
    "    \n",
    "    cv2.imshow('Face Detection', img)\n",
    "    \n",
    "    if cv2.waitKey(1) & 0xFF == ord('q'):\n",
    "        break\n",
    "\n",
    "cap.release()\n",
    "cv2.destroyAllWindows()    "
   ]
  },
  {
   "cell_type": "markdown",
   "metadata": {},
   "source": [
    "> CNN based technique is almost useless for streaming data due to it's latency."
   ]
  },
  {
   "cell_type": "code",
   "execution_count": null,
   "metadata": {},
   "outputs": [],
   "source": []
  },
  {
   "cell_type": "code",
   "execution_count": null,
   "metadata": {},
   "outputs": [],
   "source": []
  }
 ],
 "metadata": {
  "kernelspec": {
   "display_name": "Python 3",
   "language": "python",
   "name": "python3"
  },
  "language_info": {
   "codemirror_mode": {
    "name": "ipython",
    "version": 3
   },
   "file_extension": ".py",
   "mimetype": "text/x-python",
   "name": "python",
   "nbconvert_exporter": "python",
   "pygments_lexer": "ipython3",
   "version": "3.6.4"
  }
 },
 "nbformat": 4,
 "nbformat_minor": 2
}
